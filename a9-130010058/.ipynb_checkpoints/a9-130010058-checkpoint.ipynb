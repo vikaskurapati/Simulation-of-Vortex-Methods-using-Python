{
 "cells": [
  {
   "cell_type": "code",
   "execution_count": 1,
   "metadata": {
    "collapsed": true
   },
   "outputs": [],
   "source": [
    "%matplotlib inline"
   ]
  },
  {
   "cell_type": "code",
   "execution_count": 2,
   "metadata": {
    "collapsed": true
   },
   "outputs": [],
   "source": [
    "import numpy as np\n",
    "from matplotlib import pyplot as plt"
   ]
  },
  {
   "cell_type": "code",
   "execution_count": 3,
   "metadata": {
    "collapsed": true
   },
   "outputs": [],
   "source": [
    "def spline_kernel(h, x):\n",
    "    \"\"\"Function that returns the kernel value according to cubic spline in 1D\n",
    "    \"\"\"\n",
    "    q = abs(x)/h\n",
    "    if(q <= 1.0):\n",
    "        return (2.0/(3.0*h))*(1.0-(1.5*q*q*(1-(q/2.0))))\n",
    "    elif(1.0 < q <= 2.0):\n",
    "        return (2.0/(12.0*h))*(2.0 - q)*(2.0 - q)*(2.0 - q)\n",
    "    else:\n",
    "        return 0.0"
   ]
  },
  {
   "cell_type": "code",
   "execution_count": 4,
   "metadata": {
    "collapsed": true
   },
   "outputs": [],
   "source": [
    "def spline_diff(h, x):\n",
    "    q = abs(x)/h\n",
    "    if q == 0.0:\n",
    "        return 0.0\n",
    "    elif q <= 1.0:\n",
    "        return (2.0/(3.0*h))*(-3.0*q + 9.0*q*q/4.0)*abs(x)/(h*x)\n",
    "    elif 1 < q <= 2.0:\n",
    "        return (-1.0/(2.0*h))*(2.0 - q)*(2.0 - q)*abs(x)/(h*x)\n",
    "    else:\n",
    "        return 0.0"
   ]
  },
  {
   "cell_type": "code",
   "execution_count": 5,
   "metadata": {
    "collapsed": true
   },
   "outputs": [],
   "source": [
    "def initialize():\n",
    "    xl = np.linspace(-0.5, 0.0, 320, endpoint=False)\n",
    "    xr = np.linspace(0.0125, 0.5, 40)\n",
    "    x = np.concatenate([xl, xr])\n",
    "    rhol = np.full(len(xl), 1.0)\n",
    "    rhor = np.full(len(xr), 0.125)\n",
    "    rho = np.concatenate([rhol, rhor])\n",
    "    Pl = np.full(len(xl), 1.0)\n",
    "    Pr = np.full(len(xr), 0.1)\n",
    "    P = np.concatenate([Pl, Pr])\n",
    "    v = np.full(len(x), 0.0)\n",
    "    e = P/(0.4*rho)\n",
    "    return x, rho, P, v, e"
   ]
  },
  {
   "cell_type": "code",
   "execution_count": 6,
   "metadata": {
    "collapsed": true
   },
   "outputs": [],
   "source": [
    "def derivatives(x, rho, P, v, e):\n",
    "    m = 0.0015625\n",
    "    alpha = beta = 1.0\n",
    "    h = 0.025\n",
    "    eta = 0.01*h*h\n",
    "    x_der = np.zeros(len(x))\n",
    "    rho_der = np.zeros(len(x))\n",
    "    v_der = np.zeros(len(x))\n",
    "    e_der = np.zeros(len(x))\n",
    "    for i in range(len(x)):\n",
    "        for j in range(len(x)):\n",
    "            xij = x[i] - x[j]\n",
    "            if (abs(xij) < (2*h)):\n",
    "                vij = v[i] - v[j]\n",
    "                cij = 0.5*(np.sqrt(1.4*P[i]/rho[i]) + np.sqrt(1.4*P[j]/rho[j]))\n",
    "                rhoij = 0.5*(rho[i] + rho[j])\n",
    "                if (vij*xij) < 0.0:\n",
    "                    nuij = h*vij*xij/((xij*xij) + eta*eta)\n",
    "                    piij = (-alpha*cij*nuij + beta*nuij*nuij)/rhoij\n",
    "                else:\n",
    "                    piij = 0.0\n",
    "                k = (P[i]/(rho[i]*rho[i])+P[j]/(rho[j]*rho[j])+piij)\n",
    "                v_der[i] += -m*k*spline_diff(h, x[i]-x[j])\n",
    "                e_der[i] += 0.5*m*k*vij*spline_diff(h, x[i]-x[j])\n",
    "                x_der[i] += 0.5*m*spline_kernel(h, x[i]-x[j])*(v[j]-v[i])/rhoij\n",
    "    return v_der, e_der, x_der+v"
   ]
  },
  {
   "cell_type": "code",
   "execution_count": 7,
   "metadata": {
    "collapsed": true
   },
   "outputs": [],
   "source": [
    "def density(x, h):\n",
    "    r = np.zeros(len(x))\n",
    "    for i in range(len(x)):\n",
    "        for j in range(len(x)):\n",
    "            r[i] += 0.0015625*spline_kernel(h, x[i]-x[j])\n",
    "    return r"
   ]
  },
  {
   "cell_type": "code",
   "execution_count": 8,
   "metadata": {
    "collapsed": true
   },
   "outputs": [],
   "source": [
    "def exact_solution(Pl, Pr, rhol, rhor):\n",
    "    P5 = Pr\n",
    "    P1 = Pl\n",
    "    rho1 = rhol\n",
    "    rho5 = rhor\n",
    "    P3guess = np.linspace(Pl, Pr, 1000)\n",
    "    u1 = u5 = 0.0\n",
    "    gamma = 1.4\n",
    "    sigma = (gamma-1.0)/(gamma+1.0)\n",
    "    beta = 0.5*(gamma-1)/gamma\n",
    "    error = np.zeros(len(P3guess))\n",
    "    for i, p3 in enumerate(P3guess):\n",
    "        temp1 = (p3 - P5)*np.sqrt((1.0-sigma)/(rho5*(p3+sigma*P5)))\n",
    "        k3 = np.sqrt((1.0-sigma*sigma)*P1**(1.0/gamma)/rho1)\n",
    "        temp2 = (P1**beta-p3**beta)*k3/sigma\n",
    "        error[i] = abs(temp1 - temp2)\n",
    "    P3 = P3guess[np.argmin(error)]\n",
    "    P4 = P3\n",
    "    rho3 = rho1*((P3/P1)**(1.0/gamma))\n",
    "    k2 = np.sqrt(0.5*rho5*((gamma+1.0)*P3 + (gamma-1.0)*P5))\n",
    "    u3 = u4 = u5 + (P3 - P5)/k2\n",
    "    rho4 = rho5*(P4 + sigma*P5)/(P5 + sigma*P4)\n",
    "    P = np.array([P1, P1, P3, P3, P4, P4, P5, P5])\n",
    "    rho = np.array([rho1, rho1, rho3, rho3, rho4, rho4, rho5, rho5])\n",
    "    U = np.array([u1, u1, u3, u3, u4, u4, u5, u5])\n",
    "    e = P/((gamma-1.0)*rho)\n",
    "    x = np.array([-0.5, -0.25, 0.0, 0.2, 0.2, 0.4, 0.4, 0.5])\n",
    "    return P, rho, U, e, x"
   ]
  },
  {
   "cell_type": "code",
   "execution_count": 12,
   "metadata": {
    "collapsed": true
   },
   "outputs": [],
   "source": [
    "def sod(dt, tf):\n",
    "    t = 0.0\n",
    "    x, rho, P, v, e = initialize()\n",
    "    P_exact, rho_exact, U_exact, e_exact, x_exact = exact_solution(1.0, 0.1, 1.0, 0.125)\n",
    "    while t < tf:\n",
    "        rho = density(x, 0.025)\n",
    "        v_der, e_der, x_der = derivatives(x, rho, P, v, e)\n",
    "        # rho += rho_der*dt\n",
    "        v += v_der*dt\n",
    "        e += e_der*dt\n",
    "        x += x_der*dt\n",
    "        P = 0.4*rho*e\n",
    "        t = t + dt\n",
    "    plt.figure(1)\n",
    "    plt.plot(x, rho, label='SPH')\n",
    "    plt.plot(x_exact, rho_exact, label='Exact')\n",
    "    plt.xlim(-0.5, 0.5)\n",
    "    plt.title('Plot of density vs x')\n",
    "    plt.legend()\n",
    "    plt.figure(2)\n",
    "    plt.plot(x, v, label='SPH')\n",
    "    plt.plot(x_exact, U_exact, label='Exact')\n",
    "    plt.xlim(-0.5, 0.5)\n",
    "    plt.title('Plot of velocity vs x')\n",
    "    plt.legend()\n",
    "    plt.figure(3)\n",
    "    plt.plot(x, P, label='SPH')\n",
    "    plt.plot(x_exact, P_exact, label='Exact')\n",
    "    plt.title('Plot of pressure vs x')\n",
    "    plt.xlim(-0.5, 0.5)\n",
    "    plt.legend()\n",
    "    plt.figure(4)\n",
    "    plt.plot(x, e, label='SPH')\n",
    "    plt.plot(x_exact, e_exact, label='Exact')\n",
    "    plt.xlim(-0.5, 0.5)\n",
    "    plt.title('Plot of energy vs x')\n",
    "    plt.legend()\n"
   ]
  },
  {
   "cell_type": "code",
   "execution_count": 13,
   "metadata": {
    "collapsed": false
   },
   "outputs": [],
   "source": [
    "sod(0.01,0.2)"
   ]
  }
 ],
 "metadata": {
  "kernelspec": {
   "display_name": "Python 2",
   "language": "python",
   "name": "python2"
  },
  "language_info": {
   "codemirror_mode": {
    "name": "ipython",
    "version": 2
   },
   "file_extension": ".py",
   "mimetype": "text/x-python",
   "name": "python",
   "nbconvert_exporter": "python",
   "pygments_lexer": "ipython2",
   "version": "2.7.10"
  }
 },
 "nbformat": 4,
 "nbformat_minor": 1
}
